{
  "cells": [
    {
      "cell_type": "markdown",
      "id": "f9aae160",
      "metadata": {
        "id": "f9aae160"
      },
      "source": [
        "#  Optimizing Smart Grid Energy Distribution using GA and Parallel Computing\n"
      ]
    },
    {
      "cell_type": "code",
      "execution_count": 1,
      "id": "4495ea5a",
      "metadata": {
        "id": "4495ea5a"
      },
      "outputs": [],
      "source": [
        "import numpy as np\n",
        "import random\n",
        "import matplotlib.pyplot as plt\n",
        "from multiprocessing import Pool\n",
        "import time"
      ]
    },
    {
      "cell_type": "markdown",
      "id": "8475c0c2",
      "metadata": {
        "id": "8475c0c2"
      },
      "source": [
        "##  Parameters and Simulated Data"
      ]
    },
    {
      "cell_type": "code",
      "execution_count": 2,
      "id": "b3d58e4e",
      "metadata": {
        "id": "b3d58e4e"
      },
      "outputs": [],
      "source": [
        "NUM_ZONES = 10\n",
        "NUM_SOURCES = 3\n",
        "POP_SIZE = 50\n",
        "GENERATIONS = 50\n",
        "TOURNAMENT_SIZE = 3\n",
        "MUTATION_RATE = 0.1\n",
        "\n",
        "np.random.seed(42)\n",
        "source_names = [\"Solar\", \"Wind\", \"Hydro\"]\n",
        "zone_names = [f\"Zone{i+1}\" for i in range(NUM_ZONES)]\n",
        "demand = np.random.randint(40, 80, size=NUM_ZONES)\n",
        "capacities = np.array([200, 150, 250])\n",
        "cost_matrix = np.array([\n",
        "    np.random.randint(2, 5, NUM_ZONES),\n",
        "    np.random.randint(3, 6, NUM_ZONES),\n",
        "    np.random.randint(1, 4, NUM_ZONES)\n",
        "])\n",
        "loss_matrix = np.random.uniform(0.05, 0.2, size=(NUM_SOURCES, NUM_ZONES))\n",
        "peak_penalty_zones = [1, 4, 7]"
      ]
    },
    {
      "cell_type": "markdown",
      "id": "18cd82af",
      "metadata": {
        "id": "18cd82af"
      },
      "source": [
        "#  GA Components: Chromosome, Fitness, Selection, Crossover, Mutation"
      ]
    },
    {
      "cell_type": "code",
      "execution_count": 3,
      "id": "3e833da2",
      "metadata": {
        "id": "3e833da2"
      },
      "outputs": [],
      "source": [
        "def create_chromosome():\n",
        "    return np.random.uniform(0, 50, size=(NUM_SOURCES, NUM_ZONES))\n",
        "\n",
        "def fitness(chrom):\n",
        "    total_cost = np.sum(chrom * cost_matrix)\n",
        "    total_loss = np.sum(chrom * loss_matrix)\n",
        "    zone_supply = np.sum(chrom, axis=0)\n",
        "    unmet = np.maximum(0, demand - zone_supply)\n",
        "    penalty_unmet = np.sum(unmet**2)\n",
        "    source_use = np.sum(chrom, axis=1)\n",
        "    overused = np.maximum(0, source_use - capacities)\n",
        "    penalty_overuse = np.sum(overused**2)\n",
        "    peak_penalty = sum((demand[i] - zone_supply[i])**2 for i in peak_penalty_zones)\n",
        "    return total_cost + 15 * total_loss + 40 * penalty_unmet + 30 * penalty_overuse + 50 * peak_penalty"
      ]
    },
    {
      "cell_type": "code",
      "execution_count": 4,
      "id": "87f7ab48",
      "metadata": {
        "id": "87f7ab48"
      },
      "outputs": [],
      "source": [
        "def evaluate_population(population):\n",
        "    with Pool() as pool:\n",
        "        return pool.map(fitness, population)"
      ]
    },
    {
      "cell_type": "code",
      "execution_count": 5,
      "id": "02144d65",
      "metadata": {
        "id": "02144d65"
      },
      "outputs": [],
      "source": [
        "def tournament_selection(pop, scores):\n",
        "    selected = []\n",
        "    for _ in range(len(pop)):\n",
        "        group = random.sample(list(zip(pop, scores)), TOURNAMENT_SIZE)\n",
        "        winner = min(group, key=lambda x: x[1])\n",
        "        selected.append(winner[0])\n",
        "    return selected\n",
        "\n",
        "def crossover(p1, p2):\n",
        "    alpha = np.random.uniform(0, 1, size=p1.shape)\n",
        "    return alpha * p1 + (1 - alpha) * p2\n",
        "\n",
        "def mutate(chrom):\n",
        "    for i in range(NUM_SOURCES):\n",
        "        for j in range(NUM_ZONES):\n",
        "            if random.random() < MUTATION_RATE:\n",
        "                chrom[i][j] += np.random.normal(0, 5)\n",
        "                chrom[i][j] = max(0, chrom[i][j])\n",
        "    return chrom"
      ]
    },
    {
      "cell_type": "markdown",
      "id": "8f45c7bf",
      "metadata": {
        "id": "8f45c7bf"
      },
      "source": [
        "##  Run the Genetic Algorithm"
      ]
    },
    {
      "cell_type": "code",
      "execution_count": 6,
      "id": "23836af4",
      "metadata": {
        "id": "23836af4"
      },
      "outputs": [],
      "source": [
        "def run_ga():\n",
        "    population = [create_chromosome() for _ in range(POP_SIZE)]\n",
        "    best_scores = []\n",
        "    for gen in range(GENERATIONS):\n",
        "        scores = evaluate_population(population)\n",
        "        best_scores.append(min(scores))\n",
        "        selected = tournament_selection(population, scores)\n",
        "        next_gen = []\n",
        "        for i in range(0, POP_SIZE, 2):\n",
        "            p1, p2 = selected[i], selected[(i + 1) % POP_SIZE]\n",
        "            c1, c2 = crossover(p1, p2), crossover(p2, p1)\n",
        "            next_gen += [mutate(c1), mutate(c2)]\n",
        "        population = next_gen\n",
        "    return population, best_scores"
      ]
    },
    {
      "cell_type": "markdown",
      "id": "f186f0d2",
      "metadata": {
        "id": "f186f0d2"
      },
      "source": [
        "##  Execute and Visualize Results"
      ]
    },
    {
      "cell_type": "code",
      "execution_count": 7,
      "id": "6a2d1d96",
      "metadata": {
        "colab": {
          "base_uri": "https://localhost:8080/"
        },
        "id": "6a2d1d96",
        "outputId": "17281232-6acf-4034-b2f0-ff6cce76250b"
      },
      "outputs": [
        {
          "output_type": "stream",
          "name": "stdout",
          "text": [
            "✅ Final Best Fitness: 3579.55\n",
            "⏱️ Total Runtime: 1.59 seconds\n"
          ]
        }
      ],
      "source": [
        "start = time.time()\n",
        "final_pop, best_fitness_scores = run_ga()\n",
        "end = time.time()\n",
        "print(f\"✅ Final Best Fitness: {best_fitness_scores[-1]:.2f}\")\n",
        "print(f\"⏱️ Total Runtime: {end - start:.2f} seconds\")"
      ]
    },
    {
      "cell_type": "code",
      "execution_count": 8,
      "id": "9472bf8f",
      "metadata": {
        "colab": {
          "base_uri": "https://localhost:8080/",
          "height": 487
        },
        "id": "9472bf8f",
        "outputId": "037d6266-86b9-4db7-e7e2-cef379f22571"
      },
      "outputs": [
        {
          "output_type": "display_data",
          "data": {
            "text/plain": [
              "<Figure size 640x480 with 1 Axes>"
            ],
            "image/png": "[encoded data removed]"
          },
          "metadata": {}
        }
      ],
      "source": [
        "plt.plot(best_fitness_scores, label='GA Fitness')\n",
        "plt.title(\"Convergence Curve - GA on Smart Grid\")\n",
        "plt.xlabel(\"Generation\")\n",
        "plt.ylabel(\"Fitness Score\")\n",
        "plt.grid(True)\n",
        "plt.legend()\n",
        "plt.tight_layout()\n",
        "plt.show()"
      ]
    }
  ],
  "metadata": {
    "colab": {
      "provenance": []
    },
    "language_info": {
      "name": "python"
    },
    "kernelspec": {
      "name": "python3",
      "display_name": "Python 3"
    }
  },
  "nbformat": 4,
  "nbformat_minor": 5
}